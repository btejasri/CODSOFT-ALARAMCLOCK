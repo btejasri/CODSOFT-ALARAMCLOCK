{
  "nbformat": 4,
  "nbformat_minor": 0,
  "metadata": {
    "colab": {
      "provenance": [],
      "authorship_tag": "ABX9TyOLAVdi95OlZVjMNOEDC3Yu",
      "include_colab_link": true
    },
    "kernelspec": {
      "name": "python3",
      "display_name": "Python 3"
    },
    "language_info": {
      "name": "python"
    }
  },
  "cells": [
    {
      "cell_type": "markdown",
      "metadata": {
        "id": "view-in-github",
        "colab_type": "text"
      },
      "source": [
        "<a href=\"https://colab.research.google.com/github/btejasri/CODSOFT-ALARAMCLOCK/blob/main/python_colab_py.ipynb\" target=\"_parent\"><img src=\"https://colab.research.google.com/assets/colab-badge.svg\" alt=\"Open In Colab\"/></a>"
      ]
    },
    {
      "cell_type": "code",
      "execution_count": 1,
      "metadata": {
        "colab": {
          "base_uri": "https://localhost:8080/"
        },
        "id": "Iq2SyyO2gp7o",
        "outputId": "35824b36-78ec-4ab8-f787-0a6112b5c14a"
      },
      "outputs": [
        {
          "output_type": "stream",
          "name": "stdout",
          "text": [
            "<class 'list'>\n"
          ]
        }
      ],
      "source": [
        "a=[1,2,3]\n",
        "print(type(a))"
      ]
    },
    {
      "cell_type": "code",
      "source": [
        "a=[1,2,3]\n",
        "a.append(98)\n",
        "print(a)"
      ],
      "metadata": {
        "colab": {
          "base_uri": "https://localhost:8080/"
        },
        "id": "me13sUr4hF9o",
        "outputId": "70357a36-64e7-47c0-a7c5-26357d7c516f"
      },
      "execution_count": 3,
      "outputs": [
        {
          "output_type": "stream",
          "name": "stdout",
          "text": [
            "[1, 2, 3, 98]\n"
          ]
        }
      ]
    },
    {
      "cell_type": "code",
      "source": [
        "a=[1,2,3]\n",
        "a.extend([4,7,8])\n",
        "print(a)"
      ],
      "metadata": {
        "colab": {
          "base_uri": "https://localhost:8080/"
        },
        "id": "HvffpZmRhGAg",
        "outputId": "ef23dcc7-281b-44ce-da8a-fa113ff09fdb"
      },
      "execution_count": 4,
      "outputs": [
        {
          "output_type": "stream",
          "name": "stdout",
          "text": [
            "[1, 2, 3, 4, 7, 8]\n"
          ]
        }
      ]
    },
    {
      "cell_type": "code",
      "source": [
        "a=[1,2,3]\n",
        "b=[4,5,6]\n",
        "print(a+b)"
      ],
      "metadata": {
        "colab": {
          "base_uri": "https://localhost:8080/"
        },
        "id": "DgRBi_TIhGDh",
        "outputId": "361cf88d-f5bb-4ade-b1cb-211564f795e5"
      },
      "execution_count": 5,
      "outputs": [
        {
          "output_type": "stream",
          "name": "stdout",
          "text": [
            "[1, 2, 3, 4, 5, 6]\n"
          ]
        }
      ]
    },
    {
      "cell_type": "code",
      "source": [
        "a=[1,2,3]\n",
        "a.pop()\n",
        "print(a)\n"
      ],
      "metadata": {
        "colab": {
          "base_uri": "https://localhost:8080/"
        },
        "id": "8eEY3Ra5hGGf",
        "outputId": "d75ec6cb-9305-41d2-f7ea-7f253120d66a"
      },
      "execution_count": 7,
      "outputs": [
        {
          "output_type": "stream",
          "name": "stdout",
          "text": [
            "[1, 2]\n"
          ]
        }
      ]
    },
    {
      "cell_type": "code",
      "source": [
        "a=[1,2,3]\n",
        "a.pop(0)\n",
        "print(a)"
      ],
      "metadata": {
        "colab": {
          "base_uri": "https://localhost:8080/"
        },
        "id": "WTXKe8GthGJU",
        "outputId": "d76d2219-893f-4acb-c2b5-07f265f9b785"
      },
      "execution_count": 8,
      "outputs": [
        {
          "output_type": "stream",
          "name": "stdout",
          "text": [
            "[2, 3]\n"
          ]
        }
      ]
    },
    {
      "cell_type": "code",
      "source": [
        "a=[1,2,3]\n",
        "a[0]=23\n",
        "print(a)"
      ],
      "metadata": {
        "colab": {
          "base_uri": "https://localhost:8080/"
        },
        "id": "BuulV5LJhGL7",
        "outputId": "c1a4ee2c-f4be-4800-a831-ff3b33724b19"
      },
      "execution_count": 9,
      "outputs": [
        {
          "output_type": "stream",
          "name": "stdout",
          "text": [
            "[23, 2, 3]\n"
          ]
        }
      ]
    },
    {
      "cell_type": "code",
      "source": [
        "a=[4,5,6]\n",
        "a[0]=45\n",
        "print(a)"
      ],
      "metadata": {
        "colab": {
          "base_uri": "https://localhost:8080/"
        },
        "id": "Z6oFveaYjBQX",
        "outputId": "50907e4a-2a2b-4f3e-aac9-8a1464ac1e09"
      },
      "execution_count": 11,
      "outputs": [
        {
          "output_type": "stream",
          "name": "stdout",
          "text": [
            "[45, 5, 6]\n"
          ]
        }
      ]
    },
    {
      "cell_type": "code",
      "source": [
        "a=[2,3,4]\n",
        "print(len(a))\n",
        "print(max(a))\n",
        "print(min(a))"
      ],
      "metadata": {
        "colab": {
          "base_uri": "https://localhost:8080/"
        },
        "id": "9gcAMcvUjBTI",
        "outputId": "20bcd9a9-4303-4407-b3aa-107e5815fea9"
      },
      "execution_count": 12,
      "outputs": [
        {
          "output_type": "stream",
          "name": "stdout",
          "text": [
            "3\n",
            "4\n",
            "2\n"
          ]
        }
      ]
    },
    {
      "cell_type": "code",
      "source": [
        "a=(1,2,3)\n",
        "print(a)\n",
        "print(type(a))"
      ],
      "metadata": {
        "colab": {
          "base_uri": "https://localhost:8080/"
        },
        "id": "kSE4o6bRjBV5",
        "outputId": "ea444332-79fb-4e5a-999c-d9c5eb6d0ec4"
      },
      "execution_count": 14,
      "outputs": [
        {
          "output_type": "stream",
          "name": "stdout",
          "text": [
            "(1, 2, 3)\n",
            "<class 'tuple'>\n"
          ]
        }
      ]
    },
    {
      "cell_type": "code",
      "source": [
        "a=(1,2,3)\n",
        "print(a)\n",
        "print(type(a))\n",
        "#indexing\n",
        "print(a[0])\n"
      ],
      "metadata": {
        "colab": {
          "base_uri": "https://localhost:8080/"
        },
        "id": "-yCh_xa9jBYP",
        "outputId": "ea3875e9-c735-4a56-c7e8-60cac9046901"
      },
      "execution_count": 15,
      "outputs": [
        {
          "output_type": "stream",
          "name": "stdout",
          "text": [
            "(1, 2, 3)\n",
            "<class 'tuple'>\n",
            "1\n"
          ]
        }
      ]
    },
    {
      "cell_type": "code",
      "source": [
        "a=(1,2,3)\n",
        "print(a)\n",
        "print(type(a))\n",
        "#indexing\n",
        "print(a[0])\n",
        "#slicing\n",
        "b=(1,2,3,4,5,6,7,8,9,10)\n",
        "print(b[0:5])"
      ],
      "metadata": {
        "colab": {
          "base_uri": "https://localhost:8080/"
        },
        "id": "5u0ZpYSejBbP",
        "outputId": "cbb63e2c-e1e7-4c6c-b132-c0691fc4f899"
      },
      "execution_count": 18,
      "outputs": [
        {
          "output_type": "stream",
          "name": "stdout",
          "text": [
            "(1, 2, 3)\n",
            "<class 'tuple'>\n",
            "1\n",
            "(1, 2, 3, 4, 5)\n"
          ]
        }
      ]
    },
    {
      "cell_type": "code",
      "source": [
        "a=(1,2,3)\n",
        "print(a)\n",
        "print(type(a))\n",
        "#indexing\n",
        "print(a[0])\n",
        "#slicing\n",
        "b=(1,2,3,4,5,6,7,8,9,10)\n",
        "print(b[0:5])\n",
        "#step index\n",
        "b=(1,2,3,4,5,6,7,8,9,10)\n",
        "print(b[0:7:2])"
      ],
      "metadata": {
        "colab": {
          "base_uri": "https://localhost:8080/"
        },
        "id": "wNAEauYkjBeM",
        "outputId": "afcd7a6e-023f-4754-e0b7-5a6e0db280bc"
      },
      "execution_count": 21,
      "outputs": [
        {
          "output_type": "stream",
          "name": "stdout",
          "text": [
            "(1, 2, 3)\n",
            "<class 'tuple'>\n",
            "1\n",
            "(1, 2, 3, 4, 5)\n",
            "(1, 3, 5, 7)\n"
          ]
        }
      ]
    },
    {
      "cell_type": "code",
      "source": [
        "#addint two tuples\n",
        "a=(2,4,6)\n",
        "b=(1,2,6)\n",
        "print(a+b)"
      ],
      "metadata": {
        "colab": {
          "base_uri": "https://localhost:8080/"
        },
        "id": "Cf0Qq6BZjBgf",
        "outputId": "bdf19594-6a9b-47ae-b4f7-3197ce7fd9af"
      },
      "execution_count": 22,
      "outputs": [
        {
          "output_type": "stream",
          "name": "stdout",
          "text": [
            "(2, 4, 6, 1, 2, 6)\n"
          ]
        }
      ]
    },
    {
      "cell_type": "code",
      "source": [
        "#looping\n",
        "a=(1,2,3,4)\n",
        "b=list(a)\n",
        "print(b)\n",
        "b[0]=45\n",
        "print(b)"
      ],
      "metadata": {
        "colab": {
          "base_uri": "https://localhost:8080/"
        },
        "id": "_5_YDchMjBjJ",
        "outputId": "9683abef-dd1a-4966-b1ab-07710bb4882f"
      },
      "execution_count": 23,
      "outputs": [
        {
          "output_type": "stream",
          "name": "stdout",
          "text": [
            "[1, 2, 3, 4]\n",
            "[45, 2, 3, 4]\n"
          ]
        }
      ]
    },
    {
      "cell_type": "code",
      "source": [
        "#dictionary\n",
        "a={1:'a',2:'b',3:'c'}\n",
        "print(a)\n",
        "print(type(a))"
      ],
      "metadata": {
        "colab": {
          "base_uri": "https://localhost:8080/"
        },
        "id": "1FzOPKkZjBmm",
        "outputId": "b105ac68-bdd4-430a-a3c9-e28d53e7ed61"
      },
      "execution_count": 24,
      "outputs": [
        {
          "output_type": "stream",
          "name": "stdout",
          "text": [
            "{1: 'a', 2: 'b', 3: 'c'}\n",
            "<class 'dict'>\n"
          ]
        }
      ]
    },
    {
      "cell_type": "code",
      "source": [
        "#dictionary\n",
        "a={1:'a',2:'b',3:'c'}\n",
        "print(a)\n",
        "print(type(a))\n",
        "#access\n",
        "print(a[1])"
      ],
      "metadata": {
        "colab": {
          "base_uri": "https://localhost:8080/"
        },
        "id": "4ZB15W6rhGOy",
        "outputId": "99162ac2-1bfd-4452-a473-1c9e3f42ee57"
      },
      "execution_count": 25,
      "outputs": [
        {
          "output_type": "stream",
          "name": "stdout",
          "text": [
            "{1: 'a', 2: 'b', 3: 'c'}\n",
            "<class 'dict'>\n",
            "a\n"
          ]
        }
      ]
    },
    {
      "cell_type": "code",
      "source": [
        "#dictionary\n",
        "a={1:'a',2:'b',3:'c'}\n",
        "print(a)\n",
        "print(type(a))\n",
        "#access\n",
        "print(a[1])\n",
        "#keys\n",
        "print(a.keys())\n"
      ],
      "metadata": {
        "colab": {
          "base_uri": "https://localhost:8080/"
        },
        "id": "WtJG9-NUhGSQ",
        "outputId": "18bfbd04-aea2-41aa-aefa-8882807e5ff5"
      },
      "execution_count": 26,
      "outputs": [
        {
          "output_type": "stream",
          "name": "stdout",
          "text": [
            "{1: 'a', 2: 'b', 3: 'c'}\n",
            "<class 'dict'>\n",
            "a\n",
            "dict_keys([1, 2, 3])\n"
          ]
        }
      ]
    },
    {
      "cell_type": "code",
      "source": [
        "#dictionary\n",
        "a={1:'a',2:'b',3:'c'}\n",
        "print(a)\n",
        "print(type(a))\n",
        "#access\n",
        "print(a[1])\n",
        "#keys\n",
        "print(a.keys())\n",
        "#values\n",
        "print(a.values())"
      ],
      "metadata": {
        "colab": {
          "base_uri": "https://localhost:8080/"
        },
        "id": "2J8m0mGnoXt7",
        "outputId": "ed92fdc6-a22b-4896-ea41-1d822af73cdb"
      },
      "execution_count": 27,
      "outputs": [
        {
          "output_type": "stream",
          "name": "stdout",
          "text": [
            "{1: 'a', 2: 'b', 3: 'c'}\n",
            "<class 'dict'>\n",
            "a\n",
            "dict_keys([1, 2, 3])\n",
            "dict_values(['a', 'b', 'c'])\n"
          ]
        }
      ]
    },
    {
      "cell_type": "code",
      "source": [
        "#dictionary\n",
        "a={1:'a',2:'b',3:'c'}\n",
        "print(a)\n",
        "print(type(a))\n",
        "#access\n",
        "print(a[1])\n",
        "#keys\n",
        "print(a.keys())\n",
        "#values\n",
        "print(a.values())\n",
        "#items\n",
        "print(a.items())"
      ],
      "metadata": {
        "colab": {
          "base_uri": "https://localhost:8080/"
        },
        "id": "auO8pnACoXwh",
        "outputId": "a35e3bae-a5f7-4295-f0c6-990553a2289f"
      },
      "execution_count": 28,
      "outputs": [
        {
          "output_type": "stream",
          "name": "stdout",
          "text": [
            "{1: 'a', 2: 'b', 3: 'c'}\n",
            "<class 'dict'>\n",
            "a\n",
            "dict_keys([1, 2, 3])\n",
            "dict_values(['a', 'b', 'c'])\n",
            "dict_items([(1, 'a'), (2, 'b'), (3, 'c')])\n"
          ]
        }
      ]
    },
    {
      "cell_type": "code",
      "source": [
        "#adding two dictionaries\n",
        "#update\n",
        "a={1:'a',2:'b',3:'c'}\n",
        "b={7:'y',8:'m'}\n",
        "b.update(a)\n",
        "print(b)"
      ],
      "metadata": {
        "colab": {
          "base_uri": "https://localhost:8080/"
        },
        "id": "IobcuQRooXzL",
        "outputId": "51d983ae-984a-4fed-e673-e2e22724c67a"
      },
      "execution_count": 29,
      "outputs": [
        {
          "output_type": "stream",
          "name": "stdout",
          "text": [
            "{7: 'y', 8: 'm', 1: 'a', 2: 'b', 3: 'c'}\n"
          ]
        }
      ]
    },
    {
      "cell_type": "code",
      "source": [
        "#pop method\n",
        "a={1:'a',2:'b',}\n",
        "a.pop(1)\n",
        "print(a)\n"
      ],
      "metadata": {
        "colab": {
          "base_uri": "https://localhost:8080/"
        },
        "id": "VIVtWByRoX1g",
        "outputId": "51704dfd-0af2-4be0-a068-c2d7d0e5ed18"
      },
      "execution_count": 30,
      "outputs": [
        {
          "output_type": "stream",
          "name": "stdout",
          "text": [
            "{2: 'b'}\n"
          ]
        }
      ]
    },
    {
      "cell_type": "code",
      "source": [
        "#pop item\n",
        "a={1:'a',2:'b'}\n",
        "a.popitem()\n",
        "print(a)"
      ],
      "metadata": {
        "colab": {
          "base_uri": "https://localhost:8080/"
        },
        "id": "H9gSlZ4RoX4i",
        "outputId": "8cfaa00f-8db5-4593-d43d-03ddbaaac905"
      },
      "execution_count": 32,
      "outputs": [
        {
          "output_type": "stream",
          "name": "stdout",
          "text": [
            "{1: 'a'}\n"
          ]
        }
      ]
    },
    {
      "cell_type": "code",
      "source": [
        "#string\n",
        "#single line string\n",
        "a=\"my name is tejasri\"\n",
        "print(a)"
      ],
      "metadata": {
        "colab": {
          "base_uri": "https://localhost:8080/"
        },
        "id": "UwClyYtAoX6_",
        "outputId": "f879872a-7dc0-4b00-e440-e7c12f09dfe1"
      },
      "execution_count": 33,
      "outputs": [
        {
          "output_type": "stream",
          "name": "stdout",
          "text": [
            "my name is tejasri\n"
          ]
        }
      ]
    },
    {
      "cell_type": "code",
      "source": [
        "#string\n",
        "#multi line string\n",
        "a=\"\"\"mallareddy college of engineering\"\"\"\n",
        "b='''computer science and engineering'''\n",
        "print(a+b)"
      ],
      "metadata": {
        "colab": {
          "base_uri": "https://localhost:8080/"
        },
        "id": "YcbcPxFHoX9Q",
        "outputId": "031287b1-46a8-4681-bf30-a57a3f6d5df5"
      },
      "execution_count": 34,
      "outputs": [
        {
          "output_type": "stream",
          "name": "stdout",
          "text": [
            "mallareddy college of engineeringcomputer science and engineering\n"
          ]
        }
      ]
    },
    {
      "cell_type": "code",
      "source": [
        "#string\n",
        "#indexing\n",
        "a=\"mrce college\"\n",
        "print(a[0])"
      ],
      "metadata": {
        "colab": {
          "base_uri": "https://localhost:8080/"
        },
        "id": "zn7KX6PdoYAp",
        "outputId": "96a76da3-cedc-4e2e-859e-8e14f400e6bb"
      },
      "execution_count": 35,
      "outputs": [
        {
          "output_type": "stream",
          "name": "stdout",
          "text": [
            "m\n"
          ]
        }
      ]
    },
    {
      "cell_type": "code",
      "source": [
        "#string\n",
        "#indexing\n",
        "a=\"mrce college\"\n",
        "print(a[0])\n",
        "#slicing\n",
        "a=\"mrce college\"\n",
        "print(a[0:6])"
      ],
      "metadata": {
        "colab": {
          "base_uri": "https://localhost:8080/"
        },
        "id": "_um0hOSQrJEc",
        "outputId": "81f187c0-3195-4ce2-c6e5-314d40d7864f"
      },
      "execution_count": 37,
      "outputs": [
        {
          "output_type": "stream",
          "name": "stdout",
          "text": [
            "m\n",
            "mrce c\n"
          ]
        }
      ]
    },
    {
      "cell_type": "code",
      "source": [
        "#string\n",
        "#indexing\n",
        "a=\"mrce college\"\n",
        "print(a[0])\n",
        "#slicing\n",
        "a=\"mrce college\"\n",
        "print(a[0:6])\n",
        "#stepping\n",
        "a='mrce college'\n",
        "print(a[0:6:2])"
      ],
      "metadata": {
        "colab": {
          "base_uri": "https://localhost:8080/"
        },
        "id": "V-wWwgKdrJGj",
        "outputId": "f7bf879e-7939-4405-e5c5-31e6ae975a0e"
      },
      "execution_count": 38,
      "outputs": [
        {
          "output_type": "stream",
          "name": "stdout",
          "text": [
            "m\n",
            "mrce c\n",
            "mc \n"
          ]
        }
      ]
    },
    {
      "cell_type": "code",
      "source": [
        "#lower and upper method\n",
        "b=\"mrce\"\n",
        "m=b.upper()\n",
        "print(m)"
      ],
      "metadata": {
        "colab": {
          "base_uri": "https://localhost:8080/"
        },
        "id": "zPTQRz8-rJJk",
        "outputId": "07292ad0-7f2e-4bde-92b5-285a72031a09"
      },
      "execution_count": 39,
      "outputs": [
        {
          "output_type": "stream",
          "name": "stdout",
          "text": [
            "MRCE\n"
          ]
        }
      ]
    },
    {
      "cell_type": "code",
      "source": [
        "#lower and upper method\n",
        "b=\"mrce\"\n",
        "m=b.lower()\n",
        "print(m)"
      ],
      "metadata": {
        "colab": {
          "base_uri": "https://localhost:8080/"
        },
        "id": "HcDMERIjrJMB",
        "outputId": "2bd9b2c4-fa98-4277-df76-a20588721e73"
      },
      "execution_count": 40,
      "outputs": [
        {
          "output_type": "stream",
          "name": "stdout",
          "text": [
            "mrce\n"
          ]
        }
      ]
    },
    {
      "cell_type": "code",
      "source": [
        "#lower and upper method\n",
        "b=\"mrce\"\n",
        "m=b.upper()\n",
        "print(m)\n",
        "#len method\n",
        "print(len(b))"
      ],
      "metadata": {
        "colab": {
          "base_uri": "https://localhost:8080/"
        },
        "id": "6s2MefogrJO7",
        "outputId": "242a5b92-2a1c-44db-ff02-31596b3eb56d"
      },
      "execution_count": 41,
      "outputs": [
        {
          "output_type": "stream",
          "name": "stdout",
          "text": [
            "MRCE\n",
            "4\n"
          ]
        }
      ]
    },
    {
      "cell_type": "code",
      "source": [
        "#strip method\n",
        "a=\" smiley \"\n",
        "print(a)"
      ],
      "metadata": {
        "colab": {
          "base_uri": "https://localhost:8080/"
        },
        "id": "CBUa_kTsrJRf",
        "outputId": "b2c92cb2-a7fc-49a8-afc4-1a79f1601e18"
      },
      "execution_count": 43,
      "outputs": [
        {
          "output_type": "stream",
          "name": "stdout",
          "text": [
            " smiley \n"
          ]
        }
      ]
    },
    {
      "cell_type": "code",
      "source": [
        "#strip method\n",
        "a=\" smiley \"\n",
        "print(a)\n",
        "print(a.strip())"
      ],
      "metadata": {
        "colab": {
          "base_uri": "https://localhost:8080/"
        },
        "id": "OfGFx58arJUE",
        "outputId": "8107dfeb-8d3c-4d3d-e67a-a1da1fca37af"
      },
      "execution_count": 44,
      "outputs": [
        {
          "output_type": "stream",
          "name": "stdout",
          "text": [
            " smiley \n",
            "smiley\n"
          ]
        }
      ]
    },
    {
      "cell_type": "code",
      "source": [
        "#format method\n",
        "a=\"cse\"\n",
        "b=\"69\"\n",
        "out=\"my department is{} and count is{}\"\n",
        "print(out.format(a,b))"
      ],
      "metadata": {
        "colab": {
          "base_uri": "https://localhost:8080/"
        },
        "id": "td36eLEfrJXr",
        "outputId": "ff2e08a0-feba-4054-d0bd-7b485b34e07d"
      },
      "execution_count": 51,
      "outputs": [
        {
          "output_type": "stream",
          "name": "stdout",
          "text": [
            "my department iscse and count is69\n"
          ]
        }
      ]
    },
    {
      "cell_type": "code",
      "source": [
        "#format method\n",
        "a=\"cse\"\n",
        "b=\"69\"\n",
        "out=\"my department is{1} and count is{0}\"\n",
        "print(out.format(b,a))"
      ],
      "metadata": {
        "colab": {
          "base_uri": "https://localhost:8080/"
        },
        "id": "7dylT2QmtCav",
        "outputId": "def2565f-0245-4e69-d1a4-ecfd7ae914db"
      },
      "execution_count": 54,
      "outputs": [
        {
          "output_type": "stream",
          "name": "stdout",
          "text": [
            "my department iscse and count is69\n"
          ]
        }
      ]
    },
    {
      "cell_type": "code",
      "source": [
        "#sets\n",
        "a={1,2,3,4,5,6,6,56,7,8,12,32,34,55,65,77,7}\n",
        "print(a)\n",
        "print(type(a))"
      ],
      "metadata": {
        "colab": {
          "base_uri": "https://localhost:8080/"
        },
        "id": "K6NKPcAItCdc",
        "outputId": "c098098f-6725-4a7f-98cb-4ba9ab968535"
      },
      "execution_count": 60,
      "outputs": [
        {
          "output_type": "stream",
          "name": "stdout",
          "text": [
            "{32, 1, 2, 3, 4, 5, 6, 7, 8, 34, 65, 12, 77, 55, 56}\n",
            "<class 'set'>\n"
          ]
        }
      ]
    },
    {
      "cell_type": "code",
      "source": [
        "#sets\n",
        "a={1,2,3,4,5,6,6,56,7,8,12,32,34,55,65,77,7}\n",
        "print(a)\n",
        "print(type(a))\n",
        "#add\n",
        "a.add(89)\n",
        "print(a)\n"
      ],
      "metadata": {
        "colab": {
          "base_uri": "https://localhost:8080/"
        },
        "id": "QVSAx7uytCgB",
        "outputId": "3fa2e81f-8b7a-46bb-c79c-379ece453950"
      },
      "execution_count": 61,
      "outputs": [
        {
          "output_type": "stream",
          "name": "stdout",
          "text": [
            "{32, 1, 2, 3, 4, 5, 6, 7, 8, 34, 65, 12, 77, 55, 56}\n",
            "<class 'set'>\n",
            "{32, 1, 2, 3, 4, 5, 6, 7, 8, 34, 65, 12, 77, 55, 56, 89}\n"
          ]
        }
      ]
    },
    {
      "cell_type": "code",
      "source": [
        "#sets\n",
        "a={1,2,3,4,5,6,6,56,7,8,12,32,34,55,65,77,7}\n",
        "print(a)\n",
        "print(type(a))\n",
        "#add\n",
        "a.add(89)\n",
        "print(a)\n",
        "#pop method\n",
        "a={1,2,3,4,5,6,6,56,7,8,12,32,34,55,65,77,7}\n",
        "a.pop()\n",
        "print(a)"
      ],
      "metadata": {
        "colab": {
          "base_uri": "https://localhost:8080/"
        },
        "id": "Wr2Ovb2GtCi3",
        "outputId": "f73bf49b-742f-4f02-c272-513f2f3c6350"
      },
      "execution_count": 66,
      "outputs": [
        {
          "output_type": "stream",
          "name": "stdout",
          "text": [
            "{32, 1, 2, 3, 4, 5, 6, 7, 8, 34, 65, 12, 77, 55, 56}\n",
            "<class 'set'>\n",
            "{32, 1, 2, 3, 4, 5, 6, 7, 8, 34, 65, 12, 77, 55, 56, 89}\n",
            "{1, 2, 3, 4, 5, 6, 7, 8, 34, 65, 12, 77, 55, 56}\n"
          ]
        }
      ]
    },
    {
      "cell_type": "code",
      "source": [
        "#remove and discard method\n",
        "a={4,5,6,7}\n",
        "a.remove(5)\n",
        "print(a)"
      ],
      "metadata": {
        "colab": {
          "base_uri": "https://localhost:8080/"
        },
        "id": "4Qpc2XN7tCkz",
        "outputId": "f242d961-9224-4762-ff88-61b9e95db974"
      },
      "execution_count": 67,
      "outputs": [
        {
          "output_type": "stream",
          "name": "stdout",
          "text": [
            "{4, 6, 7}\n"
          ]
        }
      ]
    },
    {
      "cell_type": "code",
      "source": [
        "#adding two sets\n",
        "#update\n",
        "a={1,2,3,4,}\n",
        "b={9,7,8,5}\n",
        "a.update(b)\n",
        "print(a)\n"
      ],
      "metadata": {
        "colab": {
          "base_uri": "https://localhost:8080/"
        },
        "id": "FgM_8uHivofJ",
        "outputId": "043f1b8b-3740-4bb6-95ae-ff52309de406"
      },
      "execution_count": 69,
      "outputs": [
        {
          "output_type": "stream",
          "name": "stdout",
          "text": [
            "{1, 2, 3, 4, 5, 7, 8, 9}\n"
          ]
        }
      ]
    },
    {
      "cell_type": "code",
      "source": [
        "#numbers\n",
        "#integer\n",
        "a=9\n",
        "print(type(a))"
      ],
      "metadata": {
        "colab": {
          "base_uri": "https://localhost:8080/"
        },
        "id": "kMlQi4y8voui",
        "outputId": "77828913-2926-43a9-ad60-0c6ef8f3a262"
      },
      "execution_count": 72,
      "outputs": [
        {
          "output_type": "stream",
          "name": "stdout",
          "text": [
            "<class 'int'>\n"
          ]
        }
      ]
    },
    {
      "cell_type": "code",
      "source": [
        "#numbers\n",
        "#integer\n",
        "a=9\n",
        "print(type(a))\n",
        "#float\n",
        "a=9.0\n",
        "print(type(a))"
      ],
      "metadata": {
        "colab": {
          "base_uri": "https://localhost:8080/"
        },
        "id": "2idJ1mmZvo7h",
        "outputId": "31d61420-5db9-44a0-957c-ac7fc7680552"
      },
      "execution_count": 73,
      "outputs": [
        {
          "output_type": "stream",
          "name": "stdout",
          "text": [
            "<class 'int'>\n",
            "<class 'float'>\n"
          ]
        }
      ]
    },
    {
      "cell_type": "code",
      "source": [
        "#numbers\n",
        "#integer\n",
        "a=9\n",
        "print(type(a))\n",
        "#float\n",
        "a=9.0\n",
        "print(type(a))\n",
        "#complex\n",
        "a=9+8j\n",
        "print(type(a))"
      ],
      "metadata": {
        "colab": {
          "base_uri": "https://localhost:8080/"
        },
        "id": "CLLCQmpDtCoK",
        "outputId": "60e6d1f4-8f22-4b59-beee-263046a5ef5d"
      },
      "execution_count": 75,
      "outputs": [
        {
          "output_type": "stream",
          "name": "stdout",
          "text": [
            "<class 'int'>\n",
            "<class 'float'>\n",
            "<class 'complex'>\n"
          ]
        }
      ]
    },
    {
      "cell_type": "code",
      "source": [
        "#is instance function\n",
        "#instance\n",
        "a=9\n",
        "print(isinstance(a,int))"
      ],
      "metadata": {
        "colab": {
          "base_uri": "https://localhost:8080/"
        },
        "id": "p07fLmG2xKAW",
        "outputId": "25801dd4-b71b-460f-e815-c145c5bf4a36"
      },
      "execution_count": 86,
      "outputs": [
        {
          "output_type": "stream",
          "name": "stdout",
          "text": [
            "True\n"
          ]
        }
      ]
    },
    {
      "cell_type": "code",
      "source": [
        "#instance\n",
        "a=8.9\n",
        "print(isinstance(a,int))"
      ],
      "metadata": {
        "colab": {
          "base_uri": "https://localhost:8080/"
        },
        "id": "RIJ4BiyWxKDG",
        "outputId": "00744856-bf02-44fd-d62f-53192565b413"
      },
      "execution_count": 85,
      "outputs": [
        {
          "output_type": "stream",
          "name": "stdout",
          "text": [
            "False\n"
          ]
        }
      ]
    },
    {
      "cell_type": "code",
      "source": [
        "#booleans\n",
        "print(bool(a))"
      ],
      "metadata": {
        "colab": {
          "base_uri": "https://localhost:8080/"
        },
        "id": "aikD5AU9xKF3",
        "outputId": "e13c5497-187b-4f73-f9bc-448451573d15"
      },
      "execution_count": 87,
      "outputs": [
        {
          "output_type": "stream",
          "name": "stdout",
          "text": [
            "True\n"
          ]
        }
      ]
    },
    {
      "cell_type": "code",
      "source": [
        "#booleans\n",
        "print(bool(a))\n",
        "print(bool(0))"
      ],
      "metadata": {
        "colab": {
          "base_uri": "https://localhost:8080/"
        },
        "id": "oNXhFOf2xKIh",
        "outputId": "23b4edf9-91c2-4f07-c92e-34702c614d8e"
      },
      "execution_count": 88,
      "outputs": [
        {
          "output_type": "stream",
          "name": "stdout",
          "text": [
            "True\n",
            "False\n"
          ]
        }
      ]
    },
    {
      "cell_type": "code",
      "source": [
        "#booleans\n",
        "print(bool(a))\n",
        "print(bool(0))\n",
        "print(bool([1,2,3]))"
      ],
      "metadata": {
        "colab": {
          "base_uri": "https://localhost:8080/"
        },
        "id": "aAMuOS-zxKLH",
        "outputId": "876a6594-86cf-4e0a-9973-ebb938e9bec7"
      },
      "execution_count": 89,
      "outputs": [
        {
          "output_type": "stream",
          "name": "stdout",
          "text": [
            "True\n",
            "False\n",
            "True\n"
          ]
        }
      ]
    },
    {
      "cell_type": "code",
      "source": [
        "#control statements\n",
        "a = -8\n",
        "if a > 0:\n",
        "    print(\"positive\")\n",
        "else:\n",
        "    print(\"negative\")\n"
      ],
      "metadata": {
        "colab": {
          "base_uri": "https://localhost:8080/"
        },
        "id": "OEHMUtL-xKNT",
        "outputId": "81fdf29e-21e0-4554-c2e1-f9dfe6d668ef"
      },
      "execution_count": 107,
      "outputs": [
        {
          "output_type": "stream",
          "name": "stdout",
          "text": [
            "negative\n"
          ]
        }
      ]
    },
    {
      "cell_type": "code",
      "source": [
        "#elif statement\n",
        "day=6\n",
        "if day==1:\n",
        "  print(\"sun\")\n",
        "elif day==2:\n",
        "  print(\"mon\")\n",
        "elif day==3:\n",
        "  print(\"tue\")\n",
        "else:\n",
        "  print(\"choose the correct number\")\n"
      ],
      "metadata": {
        "colab": {
          "base_uri": "https://localhost:8080/"
        },
        "id": "2CFTarj1xKQ1",
        "outputId": "d33f2eb4-a30c-4d52-9707-26508b801fd6"
      },
      "execution_count": 108,
      "outputs": [
        {
          "output_type": "stream",
          "name": "stdout",
          "text": [
            "choose the correct number\n"
          ]
        }
      ]
    }
  ]
}